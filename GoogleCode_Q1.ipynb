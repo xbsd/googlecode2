{
 "metadata": {
  "name": "",
  "signature": "sha256:cdf4d4996cf84fc9f7b9d3abe1df556ed0c54c3038aebb72d9de8e71421eb791"
 },
 "nbformat": 3,
 "nbformat_minor": 0,
 "worksheets": [
  {
   "cells": [
    {
     "cell_type": "code",
     "collapsed": false,
     "input": [
      "import numpy as np\n",
      "import numexpr as ne"
     ],
     "language": "python",
     "metadata": {},
     "outputs": [],
     "prompt_number": 90
    },
    {
     "cell_type": "code",
     "collapsed": false,
     "input": [
      "L=[\"0123\",\"456\",\"6789\", \"100\"]\n",
      "nx=1234\n",
      "%timeit -n1 ne.evaluate(\"nx*RANGE\").astype(str)\n",
      "%timeit -n1 RANGE = np.arange(1e6).astype(int)"
     ],
     "language": "python",
     "metadata": {},
     "outputs": [
      {
       "output_type": "stream",
       "stream": "stdout",
       "text": [
        "1 loops, best of 3: 76.1 \u00b5s per loop\n",
        "1 loops, best of 3: 4.32 ms per loop\n"
       ]
      }
     ],
     "prompt_number": 117
    },
    {
     "cell_type": "code",
     "collapsed": false,
     "input": [],
     "language": "python",
     "metadata": {},
     "outputs": [],
     "prompt_number": 140
    },
    {
     "cell_type": "code",
     "collapsed": false,
     "input": [
      "RANGE = 1+np.arange(1e6).astype(int) #Should be changed\n",
      "\n",
      "def getL(num,RANGE):\n",
      "    return ne.evaluate(\"num*RANGE\").astype(str)\n",
      "\n",
      "def getInsom(num,RANGE):\n",
      "    #print \"NUMBER:\",num\n",
      "    N=list(np.arange(10).astype(str))\n",
      "    L = getL(num,RANGE)\n",
      "    #print L\n",
      "    c=0\n",
      "    #print \"N is \",N\n",
      "    for x in L:\n",
      "        #print \"x is \",x\n",
      "        #print \" -- in i loop -- \"\n",
      "        for i in x:\n",
      "            #print \"i is \",i\n",
      "            try:\n",
      "                stri=str(i)\n",
      "                k=N.index(stri)\n",
      "            except ValueError:\n",
      "                pass\n",
      "            else:\n",
      "                #print \"k is \",k\n",
      "                N.pop(k)\n",
      "                #print \"Popped \",str(i),\" from N, and now N is \", N\n",
      "            if len(N) == 0:\n",
      "                #print \"Breaking at Index \",c, \" where L is \", L[c]\n",
      "                return L[c]\n",
      "        #print \"c is \",c\n",
      "        #print \"--\"\n",
      "        c+=1\n",
      "    return 'INSOMNIA'"
     ],
     "language": "python",
     "metadata": {},
     "outputs": [],
     "prompt_number": 329
    },
    {
     "cell_type": "code",
     "collapsed": false,
     "input": [
      "fp = open(\"A-small-attempt0.in.txt\")\n",
      "tg = open(\"result.txt\",'w')\n",
      "for (i,line) in enumerate(fp):\n",
      "    if i == 0:\n",
      "        pass\n",
      "    else:\n",
      "        res = \"Case #\"+str(i)+\": \" + getInsom(int(line),RANGE)\n",
      "        tg.write(res)\n",
      "        tg.write(\"\\n\")\n",
      "fp.close()\n",
      "tg.close()\n",
      "!head \"result.txt\" "
     ],
     "language": "python",
     "metadata": {},
     "outputs": [
      {
       "output_type": "stream",
       "stream": "stdout",
       "text": [
        "Case #1: INSOMNIA\r\n",
        "Case #2: 10\r\n",
        "Case #3: 90\r\n",
        "Case #4: 110\r\n",
        "Case #5: 910\r\n",
        "Case #6: 912\r\n",
        "Case #7: 900\r\n",
        "Case #8: 792\r\n",
        "Case #9: 2380\r\n",
        "Case #10: 900\r\n"
       ]
      }
     ],
     "prompt_number": 331
    },
    {
     "cell_type": "code",
     "collapsed": false,
     "input": [
      "len(RANGE)"
     ],
     "language": "python",
     "metadata": {},
     "outputs": [
      {
       "metadata": {},
       "output_type": "pyout",
       "prompt_number": 323,
       "text": [
        "100"
       ]
      }
     ],
     "prompt_number": 323
    },
    {
     "cell_type": "code",
     "collapsed": false,
     "input": [],
     "language": "python",
     "metadata": {},
     "outputs": []
    }
   ],
   "metadata": {}
  }
 ]
}